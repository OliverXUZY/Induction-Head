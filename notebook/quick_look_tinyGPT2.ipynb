{
 "cells": [
  {
   "cell_type": "code",
   "execution_count": 4,
   "metadata": {},
   "outputs": [],
   "source": [
    "# importing required libraries\n",
    "import torch.nn as nn\n",
    "import torch\n",
    "import torch.nn.functional as F\n",
    "import math,copy,re\n",
    "import warnings\n",
    "import os\n",
    "## plase change to folder path\n",
    "working_dir = \"/home/zhuoyan/nlp/Induction-Head\"\n",
    "# working_dir = \"/Users/zyxu/Documents/py/NLP/induction_head/induc_head\"\n",
    "os.chdir(working_dir)\n",
    "import json \n",
    "import numpy as np\n",
    "import scipy as sp\n",
    "import seaborn as sns\n",
    "import matplotlib.pyplot as plt\n",
    "import yaml\n",
    "from src.config import Config\n",
    "from src.model.tinyGPT2 import tinyGPT2LMHeadModel\n",
    "from src.data.gen_simple import gen_simple_data\n",
    "from src.utils import fix_random_seed, create_folder\n",
    "DEVICE = torch.device(\"cuda\" if torch.cuda.is_available() else \"cpu\")\n",
    "\n",
    "\n",
    "from transformers import GPT2Config\n"
   ]
  },
  {
   "cell_type": "code",
   "execution_count": 9,
   "metadata": {},
   "outputs": [],
   "source": [
    "tinymodel = tinyGPT2LMHeadModel.from_pretrained(\"model_output\")"
   ]
  },
  {
   "cell_type": "code",
   "execution_count": 10,
   "metadata": {},
   "outputs": [
    {
     "data": {
      "text/plain": [
       "tinyGPT2LMHeadModel(\n",
       "  (transformer): tinyGPT2Model(\n",
       "    (wte): Embedding(50257, 768)\n",
       "    (wpe): Embedding(1024, 768)\n",
       "    (drop): Dropout(p=0.1, inplace=False)\n",
       "    (h): ModuleList(\n",
       "      (0-1): 2 x tinyGPT2Block(\n",
       "        (ln_1): LayerNorm((768,), eps=1e-05, elementwise_affine=True)\n",
       "        (attn): GPT2Attention(\n",
       "          (c_attn): Conv1D()\n",
       "          (c_proj): Conv1D()\n",
       "          (attn_dropout): Dropout(p=0.1, inplace=False)\n",
       "          (resid_dropout): Dropout(p=0.1, inplace=False)\n",
       "        )\n",
       "        (ln_2): LayerNorm((768,), eps=1e-05, elementwise_affine=True)\n",
       "      )\n",
       "    )\n",
       "    (ln_f): LayerNorm((768,), eps=1e-05, elementwise_affine=True)\n",
       "  )\n",
       "  (lm_head): Linear(in_features=768, out_features=50257, bias=False)\n",
       ")"
      ]
     },
     "execution_count": 10,
     "metadata": {},
     "output_type": "execute_result"
    }
   ],
   "source": [
    "tinymodel"
   ]
  },
  {
   "cell_type": "code",
   "execution_count": 12,
   "metadata": {},
   "outputs": [
    {
     "ename": "AttributeError",
     "evalue": "'tinyGPT2Block' object has no attribute 'mha'",
     "output_type": "error",
     "traceback": [
      "\u001b[0;31m---------------------------------------------------------------------------\u001b[0m",
      "\u001b[0;31mAttributeError\u001b[0m                            Traceback (most recent call last)",
      "Cell \u001b[0;32mIn[12], line 3\u001b[0m\n\u001b[1;32m      1\u001b[0m d_model \u001b[38;5;241m=\u001b[39m \u001b[38;5;241m768\u001b[39m\n\u001b[1;32m      2\u001b[0m model \u001b[38;5;241m=\u001b[39m tinymodel\u001b[38;5;241m.\u001b[39mtransformer\n\u001b[0;32m----> 3\u001b[0m W_q \u001b[38;5;241m=\u001b[39m \u001b[43mmodel\u001b[49m\u001b[38;5;241;43m.\u001b[39;49m\u001b[43mh\u001b[49m\u001b[43m[\u001b[49m\u001b[38;5;241;43m1\u001b[39;49m\u001b[43m]\u001b[49m\u001b[38;5;241;43m.\u001b[39;49m\u001b[43mmha\u001b[49m\u001b[38;5;241m.\u001b[39mW_q\u001b[38;5;241m.\u001b[39mweight\u001b[38;5;241m.\u001b[39mnumpy(force\u001b[38;5;241m=\u001b[39m\u001b[38;5;28;01mTrue\u001b[39;00m)\n\u001b[1;32m      4\u001b[0m W_k \u001b[38;5;241m=\u001b[39m model\u001b[38;5;241m.\u001b[39mh[\u001b[38;5;241m1\u001b[39m]\u001b[38;5;241m.\u001b[39mmha\u001b[38;5;241m.\u001b[39mW_k\u001b[38;5;241m.\u001b[39mweight\u001b[38;5;241m.\u001b[39mnumpy(force\u001b[38;5;241m=\u001b[39m\u001b[38;5;28;01mTrue\u001b[39;00m)\n\u001b[1;32m      5\u001b[0m W_v \u001b[38;5;241m=\u001b[39m model\u001b[38;5;241m.\u001b[39mh[\u001b[38;5;241m0\u001b[39m]\u001b[38;5;241m.\u001b[39mmha\u001b[38;5;241m.\u001b[39mW_v\u001b[38;5;241m.\u001b[39mweight\u001b[38;5;241m.\u001b[39mnumpy(force\u001b[38;5;241m=\u001b[39m\u001b[38;5;28;01mTrue\u001b[39;00m)\n",
      "File \u001b[0;32m~/miniconda3/envs/lmeval/lib/python3.9/site-packages/torch/nn/modules/module.py:1695\u001b[0m, in \u001b[0;36mModule.__getattr__\u001b[0;34m(self, name)\u001b[0m\n\u001b[1;32m   1693\u001b[0m     \u001b[38;5;28;01mif\u001b[39;00m name \u001b[38;5;129;01min\u001b[39;00m modules:\n\u001b[1;32m   1694\u001b[0m         \u001b[38;5;28;01mreturn\u001b[39;00m modules[name]\n\u001b[0;32m-> 1695\u001b[0m \u001b[38;5;28;01mraise\u001b[39;00m \u001b[38;5;167;01mAttributeError\u001b[39;00m(\u001b[38;5;124mf\u001b[39m\u001b[38;5;124m\"\u001b[39m\u001b[38;5;124m'\u001b[39m\u001b[38;5;132;01m{\u001b[39;00m\u001b[38;5;28mtype\u001b[39m(\u001b[38;5;28mself\u001b[39m)\u001b[38;5;241m.\u001b[39m\u001b[38;5;18m__name__\u001b[39m\u001b[38;5;132;01m}\u001b[39;00m\u001b[38;5;124m'\u001b[39m\u001b[38;5;124m object has no attribute \u001b[39m\u001b[38;5;124m'\u001b[39m\u001b[38;5;132;01m{\u001b[39;00mname\u001b[38;5;132;01m}\u001b[39;00m\u001b[38;5;124m'\u001b[39m\u001b[38;5;124m\"\u001b[39m)\n",
      "\u001b[0;31mAttributeError\u001b[0m: 'tinyGPT2Block' object has no attribute 'mha'"
     ]
    }
   ],
   "source": [
    "d_model = 768\n",
    "model = tinymodel.transformer\n",
    "W_q = model.h[1].mha.W_q.weight.numpy(force=True)\n",
    "W_k = model.h[1].mha.W_k.weight.numpy(force=True)\n",
    "W_v = model.h[0].mha.W_v.weight.numpy(force=True)\n",
    "W_o = model.h[0].mha.W_o.weight.numpy(force=True)\n",
    "W_qk = W_q.T @ W_k / np.sqrt(d_model)\n",
    "W_ov = W_o @ W_v"
   ]
  },
  {
   "cell_type": "code",
   "execution_count": null,
   "metadata": {},
   "outputs": [],
   "source": [
    "sns.heatmap(W_qk)\n",
    "plt.show()\n",
    "sns.heatmap(W_ov)\n",
    "plt.show()\n",
    "\n",
    "b_q = model.h[1].mha.W_q.bias.numpy(force=True)\n",
    "b_k = model.h[1].mha.W_k.bias.numpy(force=True)\n",
    "beta_q = (W_q.T @ b_k.reshape(-1,1)).ravel()  / np.sqrt(d_model)\n",
    "beta_k = (W_k @ b_q.reshape(-1,1)).ravel() / np.sqrt(d_model)\n",
    "\n",
    "vals = np.zeros(len_pattern)\n",
    "for j in range(len_pattern):\n",
    "    vals[j] = attn2.squeeze()[len_pattern+j,j+1]\n",
    "plt.plot(vals) # check whether induction head appears, and yes!\n",
    "plt.show()"
   ]
  }
 ],
 "metadata": {
  "kernelspec": {
   "display_name": "Python 3",
   "language": "python",
   "name": "python3"
  },
  "language_info": {
   "codemirror_mode": {
    "name": "ipython",
    "version": 3
   },
   "file_extension": ".py",
   "mimetype": "text/x-python",
   "name": "python",
   "nbconvert_exporter": "python",
   "pygments_lexer": "ipython3",
   "version": "3.9.0"
  }
 },
 "nbformat": 4,
 "nbformat_minor": 2
}
